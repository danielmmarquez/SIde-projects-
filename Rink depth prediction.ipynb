{
 "cells": [
  {
   "cell_type": "code",
   "execution_count": 5,
   "metadata": {},
   "outputs": [
    {
     "name": "stdout",
     "output_type": "stream",
     "text": [
      "Enter the depth of the center point(inches): 1.2\n"
     ]
    },
    {
     "data": {
      "image/png": "[encoded data removed]",
      "text/plain": [
       "<Figure size 432x288 with 2 Axes>"
      ]
     },
     "metadata": {
      "needs_background": "light"
     },
     "output_type": "display_data"
    }
   ],
   "source": [
    "import matplotlib.pyplot as plt\n",
    "import numpy as np\n",
    "\n",
    "# Define the length and width of the rink\n",
    "length = 200\n",
    "width = 85\n",
    "\n",
    "# Define the equation of the rink's surface\n",
    "center_z = float(input(\"Enter the depth of the center point(inches): \"))/12\n",
    "z = np.ones((width, length))*center_z\n",
    "\n",
    "# Create a 2D array to store the depth values\n",
    "depths = np.zeros((width,length))\n",
    "depths[:,:] = z\n",
    "\n",
    "# Create a heat map of the depths\n",
    "plt.imshow(depths, cmap='hot', interpolation='nearest')\n",
    "plt.colorbar()\n",
    "plt.show()"
   ]
  },
  {
   "cell_type": "code",
   "execution_count": 9,
   "metadata": {},
   "outputs": [
    {
     "name": "stdout",
     "output_type": "stream",
     "text": [
      "Enter the depth of the center point(inches): 1.2\n",
      "Enter the depth of point (25,40) (inches): 0.9\n",
      "Enter the depth of point (175,40) (inches): 3\n"
     ]
    },
    {
     "data": {
      "image/png": "[encoded data removed]",
      "text/plain": [
       "<Figure size 432x288 with 2 Axes>"
      ]
     },
     "metadata": {
      "needs_background": "light"
     },
     "output_type": "display_data"
    }
   ],
   "source": [
    "import matplotlib.pyplot as plt\n",
    "import numpy as np\n",
    "\n",
    "# Define the length and width of the rink\n",
    "length = 200\n",
    "width = 85\n",
    "\n",
    "# Define the equation of the rink's surface\n",
    "center_z = float(input(\"Enter the depth of the center point(inches): \"))/12\n",
    "z = np.ones((width, length))*center_z\n",
    "\n",
    "# Get the user input for the depth of two points on the rink\n",
    "point1_z = float(input(\"Enter the depth of point (25,40) (inches): \"))/12\n",
    "point2_z = float(input(\"Enter the depth of point (175,40) (inches): \"))/12\n",
    "\n",
    "# Create a 2D array to store the depth values\n",
    "depths = np.zeros((width,length))\n",
    "depths[:,:] = z\n",
    "depths[40,25] = point1_z\n",
    "depths[40,175] = point2_z\n",
    "\n",
    "# Create a heat map of the depths\n",
    "plt.imshow(depths, cmap='hot', interpolation='nearest')\n",
    "plt.colorbar()\n",
    "plt.show()"
   ]
  },
  {
   "cell_type": "code",
   "execution_count": 11,
   "metadata": {},
   "outputs": [
    {
     "name": "stdout",
     "output_type": "stream",
     "text": [
      "Enter the depth of the center point(inches): 1.3\n",
      "Enter the depth of point (25,40) (inches): 3\n",
      "Enter the depth of point (175,40) (inches): 2.1\n"
     ]
    },
    {
     "data": {
      "image/png": "[encoded data removed]",
      "text/plain": [
       "<Figure size 432x288 with 2 Axes>"
      ]
     },
     "metadata": {
      "needs_background": "light"
     },
     "output_type": "display_data"
    }
   ],
   "source": [
    "import matplotlib.pyplot as plt\n",
    "import numpy as np\n",
    "\n",
    "# Define the length and width of the rink\n",
    "length = 200\n",
    "width = 85\n",
    "\n",
    "# Define the equation of the rink's surface\n",
    "center_z = float(input(\"Enter the depth of the center point(inches): \"))/12\n",
    "z = np.ones((width, length))*center_z\n",
    "\n",
    "# Get the user input for the depth of two points on the rink\n",
    "point1_z = float(input(\"Enter the depth of point (25,40) (inches): \"))/12\n",
    "point2_z = float(input(\"Enter the depth of point (175,40) (inches): \"))/12\n",
    "\n",
    "# Create a 2D array to store the depth values\n",
    "depths = np.zeros((width,length))\n",
    "depths[:,:] = z\n",
    "depths[40,25] = point1_z\n",
    "depths[40,175] = point2_z\n",
    "\n",
    "# Define the number of neighboring points to generate\n",
    "num_points = 10\n",
    "\n",
    "# Generate the neighboring points and calculate their depths\n",
    "for i in range(num_points):\n",
    "    x = 25 + (i+1) * 10\n",
    "    y = 40\n",
    "    z = (depths[40,25] + depths[40,175])/2\n",
    "    depths[y,x] = z\n",
    "    x = 175 - (i+1) * 10\n",
    "    depths[y,x] = z\n",
    "\n",
    "# Create a heat map of the depths\n",
    "plt.imshow(depths, cmap='hot', interpolation='nearest')\n",
    "plt.colorbar()\n",
    "plt.show()"
   ]
  },
  {
   "cell_type": "code",
   "execution_count": null,
   "metadata": {},
   "outputs": [],
   "source": []
  }
 ],
 "metadata": {
  "kernelspec": {
   "display_name": "Python 3",
   "language": "python",
   "name": "python3"
  },
  "language_info": {
   "codemirror_mode": {
    "name": "ipython",
    "version": 3
   },
   "file_extension": ".py",
   "mimetype": "text/x-python",
   "name": "python",
   "nbconvert_exporter": "python",
   "pygments_lexer": "ipython3",
   "version": "3.7.6"
  }
 },
 "nbformat": 4,
 "nbformat_minor": 4
}
